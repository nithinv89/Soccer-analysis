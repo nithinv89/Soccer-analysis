{
 "cells": [
  {
   "cell_type": "markdown",
   "metadata": {},
   "source": [
    "\n",
    "\n",
    "# Project: Soccer Dataset\n",
    "\n",
    "## Table of Contents\n",
    "<ul>\n",
    "<li><a href=\"#intro\">Introduction</a></li>\n",
    "<li><a href=\"#wrangling\">Data Wrangling</a></li>\n",
    "<li><a href=\"#eda\">Exploratory Data Analysis</a></li>\n",
    "<li><a href=\"#conclusions\">Conclusions</a></li>\n",
    "</ul>"
   ]
  },
  {
   "cell_type": "markdown",
   "metadata": {},
   "source": [
    "<a id='intro'></a>\n",
    "## Introduction\n",
    "\n",
    "\n",
    "> We will be exploring the soccer dataset through the data analytical process and analyze some questions that different graphs. The raw data is given in a sqlite file. It contains data from 2008 to 2016 matches, players and teams of different Leagues across the world. We will look through each table and take all the useful information we would require to analyze our questions and provide suitable conclusions. The following questions will be analyzed.\n",
    "\n",
    "- Show the players that have improved the most since 2008 to 2015?\n",
    "- Which are the top 10 players in 2016?\n",
    "- Which are the most highly rated players since 2008 to 2016 ?\n",
    "- Compare the total matched played in each league per year? Is there any variation? If so, Why?\n",
    "- Which are the toughest teams to play at their home ground?\n",
    "- Which are the toughest teams to play in your home ground?\n",
    "- Which are the top teams between 2008 to 2016 who have the highest number of goals?\n",
    "- Which team has the most number of Wins from 2008 to 2016?\n"
   ]
  },
  {
   "cell_type": "markdown",
   "metadata": {},
   "source": [
    "<a id='Import'></a>\n",
    "### Importing the required packages\n",
    "\n",
    "> Here we will import the required documents for our analysis. We will be using sqlalchemy package for unpacking the sqlite dataset. We will also be focusing on the seaborn package for plotting our data."
   ]
  },
  {
   "cell_type": "code",
   "execution_count": 44,
   "metadata": {},
   "outputs": [],
   "source": [
    "\n",
    "#Importing the required datasets\n",
    "from sqlalchemy import create_engine, Table, MetaData\n",
    "import pandas as pd\n",
    "import numpy as np\n",
    "import matplotlib.pyplot as plt\n",
    "import seaborn as sns\n",
    "%matplotlib inline\n"
   ]
  },
  {
   "cell_type": "markdown",
   "metadata": {},
   "source": [
    "<a id='wrangling'></a>\n",
    "## Data Wrangling\n",
    "\n",
    "> Here we import sqlite data, make a connection, what all data it contains, import the required table and analyze the tables.\n",
    "- Create an engine\n",
    "- Making a connection\n",
    "- Making an empty Metadata\n",
    "- Calling the necessary Tables\n",
    "- Subsetting the dataset with a query\n",
    "- Fetching the data\n",
    "- Making it into a dataframe\n",
    "- Making a local copy for exploring in Excel\n",
    "\n",
    "### General Properties"
   ]
  },
  {
   "cell_type": "code",
   "execution_count": 6,
   "metadata": {
    "collapsed": true
   },
   "outputs": [
    {
     "name": "stdout",
     "output_type": "stream",
     "text": [
      "['Country', 'League', 'Match', 'Player', 'Player_Attributes', 'Team', 'Team_Attributes', 'sqlite_sequence']\n",
      "['id', 'name']\n",
      "['id', 'country_id', 'name']\n",
      "['id', 'country_id', 'league_id', 'season', 'stage', 'date', 'match_api_id', 'home_team_api_id', 'away_team_api_id', 'home_team_goal', 'away_team_goal', 'home_player_X1', 'home_player_X2', 'home_player_X3', 'home_player_X4', 'home_player_X5', 'home_player_X6', 'home_player_X7', 'home_player_X8', 'home_player_X9', 'home_player_X10', 'home_player_X11', 'away_player_X1', 'away_player_X2', 'away_player_X3', 'away_player_X4', 'away_player_X5', 'away_player_X6', 'away_player_X7', 'away_player_X8', 'away_player_X9', 'away_player_X10', 'away_player_X11', 'home_player_Y1', 'home_player_Y2', 'home_player_Y3', 'home_player_Y4', 'home_player_Y5', 'home_player_Y6', 'home_player_Y7', 'home_player_Y8', 'home_player_Y9', 'home_player_Y10', 'home_player_Y11', 'away_player_Y1', 'away_player_Y2', 'away_player_Y3', 'away_player_Y4', 'away_player_Y5', 'away_player_Y6', 'away_player_Y7', 'away_player_Y8', 'away_player_Y9', 'away_player_Y10', 'away_player_Y11', 'home_player_1', 'home_player_2', 'home_player_3', 'home_player_4', 'home_player_5', 'home_player_6', 'home_player_7', 'home_player_8', 'home_player_9', 'home_player_10', 'home_player_11', 'away_player_1', 'away_player_2', 'away_player_3', 'away_player_4', 'away_player_5', 'away_player_6', 'away_player_7', 'away_player_8', 'away_player_9', 'away_player_10', 'away_player_11', 'goal', 'shoton', 'shotoff', 'foulcommit', 'card', 'cross', 'corner', 'possession', 'B365H', 'B365D', 'B365A', 'BWH', 'BWD', 'BWA', 'IWH', 'IWD', 'IWA', 'LBH', 'LBD', 'LBA', 'PSH', 'PSD', 'PSA', 'WHH', 'WHD', 'WHA', 'SJH', 'SJD', 'SJA', 'VCH', 'VCD', 'VCA', 'GBH', 'GBD', 'GBA', 'BSH', 'BSD', 'BSA']\n",
      "['id', 'player_api_id', 'player_name', 'player_fifa_api_id', 'birthday', 'height', 'weight']\n",
      "['id', 'player_fifa_api_id', 'player_api_id', 'date', 'overall_rating', 'potential', 'preferred_foot', 'attacking_work_rate', 'defensive_work_rate', 'crossing', 'finishing', 'heading_accuracy', 'short_passing', 'volleys', 'dribbling', 'curve', 'free_kick_accuracy', 'long_passing', 'ball_control', 'acceleration', 'sprint_speed', 'agility', 'reactions', 'balance', 'shot_power', 'jumping', 'stamina', 'strength', 'long_shots', 'aggression', 'interceptions', 'positioning', 'vision', 'penalties', 'marking', 'standing_tackle', 'sliding_tackle', 'gk_diving', 'gk_handling', 'gk_kicking', 'gk_positioning', 'gk_reflexes']\n",
      "['id', 'team_api_id', 'team_fifa_api_id', 'team_long_name', 'team_short_name']\n",
      "['id', 'team_fifa_api_id', 'team_api_id', 'date', 'buildUpPlaySpeed', 'buildUpPlaySpeedClass', 'buildUpPlayDribbling', 'buildUpPlayDribblingClass', 'buildUpPlayPassing', 'buildUpPlayPassingClass', 'buildUpPlayPositioningClass', 'chanceCreationPassing', 'chanceCreationPassingClass', 'chanceCreationCrossing', 'chanceCreationCrossingClass', 'chanceCreationShooting', 'chanceCreationShootingClass', 'chanceCreationPositioningClass', 'defencePressure', 'defencePressureClass', 'defenceAggression', 'defenceAggressionClass', 'defenceTeamWidth', 'defenceTeamWidthClass', 'defenceDefenderLineClass']\n"
     ]
    }
   ],
   "source": [
    "# Load your data and print out a few lines. Perform operations to inspect data\n",
    "engine = create_engine('sqlite:///database.sqlite')\n",
    "print(engine.table_names())\n",
    "\n",
    "# Create a connection on engine\n",
    "connection = engine.connect()\n",
    "\n",
    "# Create a metadata object: metadata\n",
    "metadata = MetaData()\n",
    "\n",
    "# Reflect table from the engine: \n",
    "country= Table('Country', metadata, autoload=True,autoload_with=engine)\n",
    "league= Table('League', metadata, autoload=True, autoload_with=engine)\n",
    "match= Table('Match', metadata, autoload=True, autoload_with=engine)\n",
    "player= Table('Player', metadata, autoload=True, autoload_with=engine)\n",
    "player_att= Table('Player_Attributes', metadata, autoload=True, autoload_with=engine)\n",
    "team= Table('Team', metadata, autoload=True, autoload_with = engine)\n",
    "team_att= Table('Team_Attributes', metadata, autoload=True, autoload_with=engine)\n",
    "\n",
    "\n",
    "# Print the column names:\n",
    "print(country.columns.keys())\n",
    "print(league.columns.keys())\n",
    "print(match.columns.keys())\n",
    "print(player.columns.keys())\n",
    "print(player_att.columns.keys())\n",
    "print(team.columns.keys())\n",
    "print(team_att.columns.keys())\n",
    "\n",
    "# Query:\n",
    "stmt1 = 'SELECT * from Country'\n",
    "stmt2 = 'SELECT * from League'\n",
    "stmt3 = 'SELECT * from Match'\n",
    "stmt4 = 'SELECT * from Player'\n",
    "stmt5 = 'SELECT * from Player_Attributes'\n",
    "stmt6 = 'SELECT * from Team'\n",
    "stmt7 = 'SELECT * from Team_Attributes'\n",
    "\n",
    "# Print full metadata of the tables:\n",
    "c = connection.execute(stmt1).fetchall()\n",
    "l = connection.execute(stmt2).fetchall()\n",
    "m = connection.execute(stmt3).fetchall()\n",
    "p = connection.execute(stmt4).fetchall()\n",
    "p_att = connection.execute(stmt5).fetchall()\n",
    "t = connection.execute(stmt6).fetchall()\n",
    "t_att = connection.execute(stmt7).fetchall()\n",
    "\n",
    "# Create a DataFrame from the results: df\n",
    "df_c = pd.DataFrame(c)\n",
    "df_l = pd.DataFrame(l)\n",
    "df_m = pd.DataFrame(m)\n",
    "df_p = pd.DataFrame(p)\n",
    "df_patt = pd.DataFrame(p_att)\n",
    "df_t = pd.DataFrame(t)\n",
    "df_tatt = pd.DataFrame(t_att)\n",
    "\n",
    "\n",
    "# Set column names of the data as the keys of the respective Table\n",
    "df_c.columns = c[0].keys()\n",
    "df_l.columns = l[0].keys()\n",
    "df_m.columns = m[0].keys()\n",
    "df_p.columns = p[0].keys()\n",
    "df_patt.columns = p_att[0].keys()\n",
    "df_t.columns = t[0].keys()\n",
    "df_tatt.columns = t_att[0].keys()\n",
    "\n",
    "# Set as csv file to store locally\n",
    "df_c.to_csv('country.csv', index = False)\n",
    "df_l.to_csv('league.csv', index = False)\n",
    "df_m.to_csv('match.csv', index = False)\n",
    "df_p.to_csv('player.csv', index = False)\n",
    "df_patt.to_csv('player_att.csv', index = False)\n",
    "df_t.to_csv('team.csv', index = False)\n",
    "df_tatt.to_csv('team_att.csv', index = False)\n"
   ]
  },
  {
   "cell_type": "markdown",
   "metadata": {},
   "source": [
    "### Cleaning the dataset"
   ]
  },
  {
   "cell_type": "markdown",
   "metadata": {},
   "source": [
    "> Lets look into the dataset so that\n",
    "- We can remove unnecessary data\n",
    "- Check for NaN's\n",
    "- Change the date to datetime"
   ]
  },
  {
   "cell_type": "markdown",
   "metadata": {},
   "source": [
    " - Player Data"
   ]
  },
  {
   "cell_type": "code",
   "execution_count": 17,
   "metadata": {
    "collapsed": true
   },
   "outputs": [
    {
     "name": "stdout",
     "output_type": "stream",
     "text": [
      "player_api_id    0\n",
      "player_name      0\n",
      "dtype: int64\n",
      "<class 'pandas.core.frame.DataFrame'>\n",
      "RangeIndex: 11060 entries, 0 to 11059\n",
      "Data columns (total 2 columns):\n",
      " #   Column         Non-Null Count  Dtype \n",
      "---  ------         --------------  ----- \n",
      " 0   player_api_id  11060 non-null  int64 \n",
      " 1   player_name    11060 non-null  object\n",
      "dtypes: int64(1), object(1)\n",
      "memory usage: 172.9+ KB\n",
      "None\n"
     ]
    },
    {
     "data": {
      "text/html": [
       "<div>\n",
       "<style scoped>\n",
       "    .dataframe tbody tr th:only-of-type {\n",
       "        vertical-align: middle;\n",
       "    }\n",
       "\n",
       "    .dataframe tbody tr th {\n",
       "        vertical-align: top;\n",
       "    }\n",
       "\n",
       "    .dataframe thead th {\n",
       "        text-align: right;\n",
       "    }\n",
       "</style>\n",
       "<table border=\"1\" class=\"dataframe\">\n",
       "  <thead>\n",
       "    <tr style=\"text-align: right;\">\n",
       "      <th></th>\n",
       "      <th>player_api_id</th>\n",
       "      <th>player_name</th>\n",
       "    </tr>\n",
       "  </thead>\n",
       "  <tbody>\n",
       "    <tr>\n",
       "      <th>0</th>\n",
       "      <td>505942</td>\n",
       "      <td>Aaron Appindangoye</td>\n",
       "    </tr>\n",
       "    <tr>\n",
       "      <th>1</th>\n",
       "      <td>155782</td>\n",
       "      <td>Aaron Cresswell</td>\n",
       "    </tr>\n",
       "    <tr>\n",
       "      <th>2</th>\n",
       "      <td>162549</td>\n",
       "      <td>Aaron Doran</td>\n",
       "    </tr>\n",
       "    <tr>\n",
       "      <th>3</th>\n",
       "      <td>30572</td>\n",
       "      <td>Aaron Galindo</td>\n",
       "    </tr>\n",
       "    <tr>\n",
       "      <th>4</th>\n",
       "      <td>23780</td>\n",
       "      <td>Aaron Hughes</td>\n",
       "    </tr>\n",
       "  </tbody>\n",
       "</table>\n",
       "</div>"
      ],
      "text/plain": [
       "   player_api_id         player_name\n",
       "0         505942  Aaron Appindangoye\n",
       "1         155782     Aaron Cresswell\n",
       "2         162549         Aaron Doran\n",
       "3          30572       Aaron Galindo\n",
       "4          23780        Aaron Hughes"
      ]
     },
     "execution_count": 17,
     "metadata": {},
     "output_type": "execute_result"
    }
   ],
   "source": [
    "player_info = ['player_api_id','player_name',]\n",
    "df_p = df_p[player_info]\n",
    "print(df_p.isna().sum())\n",
    "print(df_p.info())\n",
    "df_p.head()\n"
   ]
  },
  {
   "cell_type": "markdown",
   "metadata": {},
   "source": [
    " - Player Attribute Data"
   ]
  },
  {
   "cell_type": "code",
   "execution_count": 18,
   "metadata": {
    "collapsed": true
   },
   "outputs": [
    {
     "name": "stdout",
     "output_type": "stream",
     "text": [
      "player_api_id       0\n",
      "date                0\n",
      "overall_rating    836\n",
      "dtype: int64\n",
      "<class 'pandas.core.frame.DataFrame'>\n",
      "RangeIndex: 183978 entries, 0 to 183977\n",
      "Data columns (total 3 columns):\n",
      " #   Column          Non-Null Count   Dtype         \n",
      "---  ------          --------------   -----         \n",
      " 0   player_api_id   183978 non-null  int64         \n",
      " 1   date            183978 non-null  datetime64[ns]\n",
      " 2   overall_rating  183142 non-null  float64       \n",
      "dtypes: datetime64[ns](1), float64(1), int64(1)\n",
      "memory usage: 4.2 MB\n",
      "None\n"
     ]
    },
    {
     "data": {
      "text/html": [
       "<div>\n",
       "<style scoped>\n",
       "    .dataframe tbody tr th:only-of-type {\n",
       "        vertical-align: middle;\n",
       "    }\n",
       "\n",
       "    .dataframe tbody tr th {\n",
       "        vertical-align: top;\n",
       "    }\n",
       "\n",
       "    .dataframe thead th {\n",
       "        text-align: right;\n",
       "    }\n",
       "</style>\n",
       "<table border=\"1\" class=\"dataframe\">\n",
       "  <thead>\n",
       "    <tr style=\"text-align: right;\">\n",
       "      <th></th>\n",
       "      <th>player_api_id</th>\n",
       "      <th>date</th>\n",
       "      <th>overall_rating</th>\n",
       "    </tr>\n",
       "  </thead>\n",
       "  <tbody>\n",
       "    <tr>\n",
       "      <th>0</th>\n",
       "      <td>505942</td>\n",
       "      <td>2016-02-18</td>\n",
       "      <td>67.0</td>\n",
       "    </tr>\n",
       "    <tr>\n",
       "      <th>1</th>\n",
       "      <td>505942</td>\n",
       "      <td>2015-11-19</td>\n",
       "      <td>67.0</td>\n",
       "    </tr>\n",
       "    <tr>\n",
       "      <th>2</th>\n",
       "      <td>505942</td>\n",
       "      <td>2015-09-21</td>\n",
       "      <td>62.0</td>\n",
       "    </tr>\n",
       "    <tr>\n",
       "      <th>3</th>\n",
       "      <td>505942</td>\n",
       "      <td>2015-03-20</td>\n",
       "      <td>61.0</td>\n",
       "    </tr>\n",
       "    <tr>\n",
       "      <th>4</th>\n",
       "      <td>505942</td>\n",
       "      <td>2007-02-22</td>\n",
       "      <td>61.0</td>\n",
       "    </tr>\n",
       "  </tbody>\n",
       "</table>\n",
       "</div>"
      ],
      "text/plain": [
       "   player_api_id       date  overall_rating\n",
       "0         505942 2016-02-18            67.0\n",
       "1         505942 2015-11-19            67.0\n",
       "2         505942 2015-09-21            62.0\n",
       "3         505942 2015-03-20            61.0\n",
       "4         505942 2007-02-22            61.0"
      ]
     },
     "execution_count": 18,
     "metadata": {},
     "output_type": "execute_result"
    }
   ],
   "source": [
    "player_att_info = ['player_api_id', 'date', 'overall_rating']\n",
    "df_patt = df_patt[player_att_info]\n",
    "df_patt.date = pd.to_datetime(df_patt.date)\n",
    "print(df_patt.isna().sum())\n",
    "print(df_patt.info())\n",
    "df_patt.head()\n",
    "\n"
   ]
  },
  {
   "cell_type": "markdown",
   "metadata": {},
   "source": [
    " - Countries and League Dataset"
   ]
  },
  {
   "cell_type": "code",
   "execution_count": 24,
   "metadata": {
    "collapsed": true
   },
   "outputs": [
    {
     "name": "stdout",
     "output_type": "stream",
     "text": [
      "<class 'pandas.core.frame.DataFrame'>\n",
      "RangeIndex: 11 entries, 0 to 10\n",
      "Data columns (total 2 columns):\n",
      " #   Column  Non-Null Count  Dtype \n",
      "---  ------  --------------  ----- \n",
      " 0   id      11 non-null     int64 \n",
      " 1   name    11 non-null     object\n",
      "dtypes: int64(1), object(1)\n",
      "memory usage: 304.0+ bytes\n",
      "None\n",
      "id      0\n",
      "name    0\n",
      "dtype: int64\n",
      "(11, 2)\n",
      "<class 'pandas.core.frame.DataFrame'>\n",
      "RangeIndex: 11 entries, 0 to 10\n",
      "Data columns (total 3 columns):\n",
      " #   Column      Non-Null Count  Dtype \n",
      "---  ------      --------------  ----- \n",
      " 0   id          11 non-null     int64 \n",
      " 1   country_id  11 non-null     int64 \n",
      " 2   name        11 non-null     object\n",
      "dtypes: int64(2), object(1)\n",
      "memory usage: 392.0+ bytes\n",
      "None\n",
      "id            0\n",
      "country_id    0\n",
      "name          0\n",
      "dtype: int64\n",
      "(11, 3)\n"
     ]
    }
   ],
   "source": [
    "print(df_c.info())\n",
    "print(df_c.isna().sum())\n",
    "print(df_c.shape)\n",
    "\n",
    "print(df_l.info())\n",
    "print(df_l.isna().sum())\n",
    "print(df_l.shape)\n"
   ]
  },
  {
   "cell_type": "markdown",
   "metadata": {},
   "source": [
    " - Matches Dataset\n",
    "\n"
   ]
  },
  {
   "cell_type": "code",
   "execution_count": 26,
   "metadata": {
    "collapsed": true
   },
   "outputs": [
    {
     "name": "stdout",
     "output_type": "stream",
     "text": [
      "<class 'pandas.core.frame.DataFrame'>\n",
      "RangeIndex: 25979 entries, 0 to 25978\n",
      "Columns: 115 entries, id to BSA\n",
      "dtypes: float64(96), int64(9), object(10)\n",
      "memory usage: 22.8+ MB\n",
      "None\n",
      "id                0\n",
      "country_id        0\n",
      "league_id         0\n",
      "season            0\n",
      "stage             0\n",
      "              ...  \n",
      "GBD           11817\n",
      "GBA           11817\n",
      "BSH           11818\n",
      "BSD           11818\n",
      "BSA           11818\n",
      "Length: 115, dtype: int64\n",
      "(25979, 115)\n"
     ]
    },
    {
     "data": {
      "text/html": [
       "<div>\n",
       "<style scoped>\n",
       "    .dataframe tbody tr th:only-of-type {\n",
       "        vertical-align: middle;\n",
       "    }\n",
       "\n",
       "    .dataframe tbody tr th {\n",
       "        vertical-align: top;\n",
       "    }\n",
       "\n",
       "    .dataframe thead th {\n",
       "        text-align: right;\n",
       "    }\n",
       "</style>\n",
       "<table border=\"1\" class=\"dataframe\">\n",
       "  <thead>\n",
       "    <tr style=\"text-align: right;\">\n",
       "      <th></th>\n",
       "      <th>id</th>\n",
       "      <th>country_id</th>\n",
       "      <th>league_id</th>\n",
       "      <th>season</th>\n",
       "      <th>stage</th>\n",
       "      <th>date</th>\n",
       "      <th>match_api_id</th>\n",
       "      <th>home_team_api_id</th>\n",
       "      <th>away_team_api_id</th>\n",
       "      <th>home_team_goal</th>\n",
       "      <th>away_team_goal</th>\n",
       "    </tr>\n",
       "  </thead>\n",
       "  <tbody>\n",
       "    <tr>\n",
       "      <th>0</th>\n",
       "      <td>1</td>\n",
       "      <td>1</td>\n",
       "      <td>1</td>\n",
       "      <td>2008/2009</td>\n",
       "      <td>1</td>\n",
       "      <td>2008-08-17</td>\n",
       "      <td>492473</td>\n",
       "      <td>9987</td>\n",
       "      <td>9993</td>\n",
       "      <td>1</td>\n",
       "      <td>1</td>\n",
       "    </tr>\n",
       "    <tr>\n",
       "      <th>1</th>\n",
       "      <td>2</td>\n",
       "      <td>1</td>\n",
       "      <td>1</td>\n",
       "      <td>2008/2009</td>\n",
       "      <td>1</td>\n",
       "      <td>2008-08-16</td>\n",
       "      <td>492474</td>\n",
       "      <td>10000</td>\n",
       "      <td>9994</td>\n",
       "      <td>0</td>\n",
       "      <td>0</td>\n",
       "    </tr>\n",
       "    <tr>\n",
       "      <th>2</th>\n",
       "      <td>3</td>\n",
       "      <td>1</td>\n",
       "      <td>1</td>\n",
       "      <td>2008/2009</td>\n",
       "      <td>1</td>\n",
       "      <td>2008-08-16</td>\n",
       "      <td>492475</td>\n",
       "      <td>9984</td>\n",
       "      <td>8635</td>\n",
       "      <td>0</td>\n",
       "      <td>3</td>\n",
       "    </tr>\n",
       "    <tr>\n",
       "      <th>3</th>\n",
       "      <td>4</td>\n",
       "      <td>1</td>\n",
       "      <td>1</td>\n",
       "      <td>2008/2009</td>\n",
       "      <td>1</td>\n",
       "      <td>2008-08-17</td>\n",
       "      <td>492476</td>\n",
       "      <td>9991</td>\n",
       "      <td>9998</td>\n",
       "      <td>5</td>\n",
       "      <td>0</td>\n",
       "    </tr>\n",
       "    <tr>\n",
       "      <th>4</th>\n",
       "      <td>5</td>\n",
       "      <td>1</td>\n",
       "      <td>1</td>\n",
       "      <td>2008/2009</td>\n",
       "      <td>1</td>\n",
       "      <td>2008-08-16</td>\n",
       "      <td>492477</td>\n",
       "      <td>7947</td>\n",
       "      <td>9985</td>\n",
       "      <td>1</td>\n",
       "      <td>3</td>\n",
       "    </tr>\n",
       "  </tbody>\n",
       "</table>\n",
       "</div>"
      ],
      "text/plain": [
       "   id  country_id  league_id     season  stage       date  match_api_id  \\\n",
       "0   1           1          1  2008/2009      1 2008-08-17        492473   \n",
       "1   2           1          1  2008/2009      1 2008-08-16        492474   \n",
       "2   3           1          1  2008/2009      1 2008-08-16        492475   \n",
       "3   4           1          1  2008/2009      1 2008-08-17        492476   \n",
       "4   5           1          1  2008/2009      1 2008-08-16        492477   \n",
       "\n",
       "   home_team_api_id  away_team_api_id  home_team_goal  away_team_goal  \n",
       "0              9987              9993               1               1  \n",
       "1             10000              9994               0               0  \n",
       "2              9984              8635               0               3  \n",
       "3              9991              9998               5               0  \n",
       "4              7947              9985               1               3  "
      ]
     },
     "execution_count": 26,
     "metadata": {},
     "output_type": "execute_result"
    }
   ],
   "source": [
    "print(df_m.info())\n",
    "print(df_m.isna().sum())\n",
    "print(df_m.shape)\n",
    "\n",
    "df_m_drop = df_m.drop([ 'home_player_X1', 'home_player_X2', 'home_player_X3', 'home_player_X4', 'home_player_X5', 'home_player_X6', 'home_player_X7', 'home_player_X8', 'home_player_X9', 'home_player_X10', 'home_player_X11', 'away_player_X1', 'away_player_X2', 'away_player_X3', 'away_player_X4', 'away_player_X5', 'away_player_X6', 'away_player_X7', 'away_player_X8', 'away_player_X9', 'away_player_X10', 'away_player_X11', 'home_player_Y1', 'home_player_Y2', 'home_player_Y3', 'home_player_Y4', 'home_player_Y5', 'home_player_Y6', 'home_player_Y7', 'home_player_Y8', 'home_player_Y9', 'home_player_Y10', 'home_player_Y11', 'away_player_Y1', 'away_player_Y2', 'away_player_Y3', 'away_player_Y4', 'away_player_Y5', 'away_player_Y6', 'away_player_Y7', 'away_player_Y8', 'away_player_Y9', 'away_player_Y10', 'away_player_Y11', 'home_player_1', 'home_player_2', 'home_player_3', 'home_player_4', 'home_player_5', 'home_player_6', 'home_player_7', 'home_player_8', 'home_player_9', 'home_player_10', 'home_player_11', 'away_player_1', 'away_player_2', 'away_player_3', 'away_player_4', 'away_player_5', 'away_player_6', 'away_player_7', 'away_player_8', 'away_player_9', 'away_player_10', 'away_player_11', 'goal', 'shoton', 'shotoff', 'foulcommit', 'card', 'cross', 'corner', 'possession', 'B365H', 'B365D', 'B365A', 'BWH', 'BWD', 'BWA', 'IWH', 'IWD', 'IWA', 'LBH', 'LBD', 'LBA', 'PSH', 'PSD', 'PSA', 'WHH', 'WHD', 'WHA', 'SJH', 'SJD', 'SJA', 'VCH', 'VCD', 'VCA', 'GBH', 'GBD', 'GBA', 'BSH', 'BSD', 'BSA'],axis = 1)\n",
    "df_m_drop.date = pd.to_datetime(df_m_drop.date)\n",
    "df_m_drop.head()"
   ]
  },
  {
   "cell_type": "markdown",
   "metadata": {},
   "source": [
    "### Merging Datasets\n",
    "> We will further explore the dataset so as to\n",
    "- remove unnecessary columns\n",
    "- rename new merged datasets"
   ]
  },
  {
   "cell_type": "markdown",
   "metadata": {},
   "source": [
    "- Merging Player and Player Attribute Data"
   ]
  },
  {
   "cell_type": "code",
   "execution_count": 19,
   "metadata": {
    "collapsed": true
   },
   "outputs": [
    {
     "name": "stdout",
     "output_type": "stream",
     "text": [
      "player_api_id       0\n",
      "date                0\n",
      "overall_rating    836\n",
      "player_name         0\n",
      "dtype: int64\n",
      "<class 'pandas.core.frame.DataFrame'>\n",
      "Int64Index: 183978 entries, 0 to 183977\n",
      "Data columns (total 4 columns):\n",
      " #   Column          Non-Null Count   Dtype         \n",
      "---  ------          --------------   -----         \n",
      " 0   player_api_id   183978 non-null  int64         \n",
      " 1   date            183978 non-null  datetime64[ns]\n",
      " 2   overall_rating  183142 non-null  float64       \n",
      " 3   player_name     183978 non-null  object        \n",
      "dtypes: datetime64[ns](1), float64(1), int64(1), object(1)\n",
      "memory usage: 7.0+ MB\n",
      "None\n"
     ]
    },
    {
     "data": {
      "text/html": [
       "<div>\n",
       "<style scoped>\n",
       "    .dataframe tbody tr th:only-of-type {\n",
       "        vertical-align: middle;\n",
       "    }\n",
       "\n",
       "    .dataframe tbody tr th {\n",
       "        vertical-align: top;\n",
       "    }\n",
       "\n",
       "    .dataframe thead th {\n",
       "        text-align: right;\n",
       "    }\n",
       "</style>\n",
       "<table border=\"1\" class=\"dataframe\">\n",
       "  <thead>\n",
       "    <tr style=\"text-align: right;\">\n",
       "      <th></th>\n",
       "      <th>player_api_id</th>\n",
       "      <th>date</th>\n",
       "      <th>overall_rating</th>\n",
       "      <th>player_name</th>\n",
       "    </tr>\n",
       "  </thead>\n",
       "  <tbody>\n",
       "    <tr>\n",
       "      <th>0</th>\n",
       "      <td>505942</td>\n",
       "      <td>2016-02-18</td>\n",
       "      <td>67.0</td>\n",
       "      <td>Aaron Appindangoye</td>\n",
       "    </tr>\n",
       "    <tr>\n",
       "      <th>1</th>\n",
       "      <td>505942</td>\n",
       "      <td>2015-11-19</td>\n",
       "      <td>67.0</td>\n",
       "      <td>Aaron Appindangoye</td>\n",
       "    </tr>\n",
       "    <tr>\n",
       "      <th>2</th>\n",
       "      <td>505942</td>\n",
       "      <td>2015-09-21</td>\n",
       "      <td>62.0</td>\n",
       "      <td>Aaron Appindangoye</td>\n",
       "    </tr>\n",
       "    <tr>\n",
       "      <th>3</th>\n",
       "      <td>505942</td>\n",
       "      <td>2015-03-20</td>\n",
       "      <td>61.0</td>\n",
       "      <td>Aaron Appindangoye</td>\n",
       "    </tr>\n",
       "    <tr>\n",
       "      <th>4</th>\n",
       "      <td>505942</td>\n",
       "      <td>2007-02-22</td>\n",
       "      <td>61.0</td>\n",
       "      <td>Aaron Appindangoye</td>\n",
       "    </tr>\n",
       "  </tbody>\n",
       "</table>\n",
       "</div>"
      ],
      "text/plain": [
       "   player_api_id       date  overall_rating         player_name\n",
       "0         505942 2016-02-18            67.0  Aaron Appindangoye\n",
       "1         505942 2015-11-19            67.0  Aaron Appindangoye\n",
       "2         505942 2015-09-21            62.0  Aaron Appindangoye\n",
       "3         505942 2015-03-20            61.0  Aaron Appindangoye\n",
       "4         505942 2007-02-22            61.0  Aaron Appindangoye"
      ]
     },
     "execution_count": 19,
     "metadata": {},
     "output_type": "execute_result"
    }
   ],
   "source": [
    "df_pm = pd.merge(df_patt, df_p, on = 'player_api_id')\n",
    "print(df_pm.isna().sum())\n",
    "print(df_pm.info())\n",
    "df_pm.head()"
   ]
  },
  {
   "cell_type": "markdown",
   "metadata": {},
   "source": [
    "\n",
    "- Merging Country and League Data\n"
   ]
  },
  {
   "cell_type": "code",
   "execution_count": 23,
   "metadata": {},
   "outputs": [],
   "source": [
    "df_cl = pd.merge(df_c,df_l,on = 'id')\n",
    "df_cl.rename(columns={'name_x':'Country', 'name_y':'League'}, inplace = True)\n",
    "df_cl = df_cl.drop(['country_id'], axis = 1)"
   ]
  },
  {
   "cell_type": "markdown",
   "metadata": {},
   "source": [
    "- Merging Matches dataset with the Merged Countries and League Dataset"
   ]
  },
  {
   "cell_type": "code",
   "execution_count": 27,
   "metadata": {
    "collapsed": true
   },
   "outputs": [
    {
     "data": {
      "text/html": [
       "<div>\n",
       "<style scoped>\n",
       "    .dataframe tbody tr th:only-of-type {\n",
       "        vertical-align: middle;\n",
       "    }\n",
       "\n",
       "    .dataframe tbody tr th {\n",
       "        vertical-align: top;\n",
       "    }\n",
       "\n",
       "    .dataframe thead th {\n",
       "        text-align: right;\n",
       "    }\n",
       "</style>\n",
       "<table border=\"1\" class=\"dataframe\">\n",
       "  <thead>\n",
       "    <tr style=\"text-align: right;\">\n",
       "      <th></th>\n",
       "      <th>country_id</th>\n",
       "      <th>season</th>\n",
       "      <th>stage</th>\n",
       "      <th>date</th>\n",
       "      <th>match_api_id</th>\n",
       "      <th>home_team_api_id</th>\n",
       "      <th>away_team_api_id</th>\n",
       "      <th>home_team_goal</th>\n",
       "      <th>away_team_goal</th>\n",
       "      <th>Country</th>\n",
       "      <th>League</th>\n",
       "    </tr>\n",
       "  </thead>\n",
       "  <tbody>\n",
       "    <tr>\n",
       "      <th>0</th>\n",
       "      <td>1</td>\n",
       "      <td>2008/2009</td>\n",
       "      <td>1</td>\n",
       "      <td>2008-08-17</td>\n",
       "      <td>492473</td>\n",
       "      <td>9987</td>\n",
       "      <td>9993</td>\n",
       "      <td>1</td>\n",
       "      <td>1</td>\n",
       "      <td>Belgium</td>\n",
       "      <td>Belgium Jupiler League</td>\n",
       "    </tr>\n",
       "    <tr>\n",
       "      <th>1</th>\n",
       "      <td>1</td>\n",
       "      <td>2008/2009</td>\n",
       "      <td>1</td>\n",
       "      <td>2008-08-16</td>\n",
       "      <td>492474</td>\n",
       "      <td>10000</td>\n",
       "      <td>9994</td>\n",
       "      <td>0</td>\n",
       "      <td>0</td>\n",
       "      <td>Belgium</td>\n",
       "      <td>Belgium Jupiler League</td>\n",
       "    </tr>\n",
       "    <tr>\n",
       "      <th>2</th>\n",
       "      <td>1</td>\n",
       "      <td>2008/2009</td>\n",
       "      <td>1</td>\n",
       "      <td>2008-08-16</td>\n",
       "      <td>492475</td>\n",
       "      <td>9984</td>\n",
       "      <td>8635</td>\n",
       "      <td>0</td>\n",
       "      <td>3</td>\n",
       "      <td>Belgium</td>\n",
       "      <td>Belgium Jupiler League</td>\n",
       "    </tr>\n",
       "    <tr>\n",
       "      <th>3</th>\n",
       "      <td>1</td>\n",
       "      <td>2008/2009</td>\n",
       "      <td>1</td>\n",
       "      <td>2008-08-17</td>\n",
       "      <td>492476</td>\n",
       "      <td>9991</td>\n",
       "      <td>9998</td>\n",
       "      <td>5</td>\n",
       "      <td>0</td>\n",
       "      <td>Belgium</td>\n",
       "      <td>Belgium Jupiler League</td>\n",
       "    </tr>\n",
       "    <tr>\n",
       "      <th>4</th>\n",
       "      <td>1</td>\n",
       "      <td>2008/2009</td>\n",
       "      <td>1</td>\n",
       "      <td>2008-08-16</td>\n",
       "      <td>492477</td>\n",
       "      <td>7947</td>\n",
       "      <td>9985</td>\n",
       "      <td>1</td>\n",
       "      <td>3</td>\n",
       "      <td>Belgium</td>\n",
       "      <td>Belgium Jupiler League</td>\n",
       "    </tr>\n",
       "  </tbody>\n",
       "</table>\n",
       "</div>"
      ],
      "text/plain": [
       "   country_id     season  stage       date  match_api_id  home_team_api_id  \\\n",
       "0           1  2008/2009      1 2008-08-17        492473              9987   \n",
       "1           1  2008/2009      1 2008-08-16        492474             10000   \n",
       "2           1  2008/2009      1 2008-08-16        492475              9984   \n",
       "3           1  2008/2009      1 2008-08-17        492476              9991   \n",
       "4           1  2008/2009      1 2008-08-16        492477              7947   \n",
       "\n",
       "   away_team_api_id  home_team_goal  away_team_goal  Country  \\\n",
       "0              9993               1               1  Belgium   \n",
       "1              9994               0               0  Belgium   \n",
       "2              8635               0               3  Belgium   \n",
       "3              9998               5               0  Belgium   \n",
       "4              9985               1               3  Belgium   \n",
       "\n",
       "                   League  \n",
       "0  Belgium Jupiler League  \n",
       "1  Belgium Jupiler League  \n",
       "2  Belgium Jupiler League  \n",
       "3  Belgium Jupiler League  \n",
       "4  Belgium Jupiler League  "
      ]
     },
     "execution_count": 27,
     "metadata": {},
     "output_type": "execute_result"
    }
   ],
   "source": [
    "df_mcl = pd.merge(df_m_drop,df_cl, left_on='country_id', right_on='id')\n",
    "df_mcl = df_mcl.drop(['id_x','league_id','id_y'], axis = 1)\n",
    "df_mcl.head()"
   ]
  },
  {
   "cell_type": "markdown",
   "metadata": {},
   "source": [
    "- Merging Match, country, league dataset with Team Dataset"
   ]
  },
  {
   "cell_type": "code",
   "execution_count": 28,
   "metadata": {
    "collapsed": true
   },
   "outputs": [
    {
     "data": {
      "text/html": [
       "<div>\n",
       "<style scoped>\n",
       "    .dataframe tbody tr th:only-of-type {\n",
       "        vertical-align: middle;\n",
       "    }\n",
       "\n",
       "    .dataframe tbody tr th {\n",
       "        vertical-align: top;\n",
       "    }\n",
       "\n",
       "    .dataframe thead th {\n",
       "        text-align: right;\n",
       "    }\n",
       "</style>\n",
       "<table border=\"1\" class=\"dataframe\">\n",
       "  <thead>\n",
       "    <tr style=\"text-align: right;\">\n",
       "      <th></th>\n",
       "      <th>country_id</th>\n",
       "      <th>season</th>\n",
       "      <th>stage</th>\n",
       "      <th>date</th>\n",
       "      <th>home_team_api_id</th>\n",
       "      <th>away_team_api_id</th>\n",
       "      <th>home_team_goal</th>\n",
       "      <th>away_team_goal</th>\n",
       "      <th>Country</th>\n",
       "      <th>League</th>\n",
       "      <th>team_api_id</th>\n",
       "      <th>team_long_name</th>\n",
       "    </tr>\n",
       "  </thead>\n",
       "  <tbody>\n",
       "    <tr>\n",
       "      <th>0</th>\n",
       "      <td>1</td>\n",
       "      <td>2008/2009</td>\n",
       "      <td>1</td>\n",
       "      <td>2008-08-17</td>\n",
       "      <td>9987</td>\n",
       "      <td>9993</td>\n",
       "      <td>1</td>\n",
       "      <td>1</td>\n",
       "      <td>Belgium</td>\n",
       "      <td>Belgium Jupiler League</td>\n",
       "      <td>9987</td>\n",
       "      <td>KRC Genk</td>\n",
       "    </tr>\n",
       "    <tr>\n",
       "      <th>1</th>\n",
       "      <td>1</td>\n",
       "      <td>2008/2009</td>\n",
       "      <td>12</td>\n",
       "      <td>2008-11-15</td>\n",
       "      <td>9987</td>\n",
       "      <td>9999</td>\n",
       "      <td>1</td>\n",
       "      <td>1</td>\n",
       "      <td>Belgium</td>\n",
       "      <td>Belgium Jupiler League</td>\n",
       "      <td>9987</td>\n",
       "      <td>KRC Genk</td>\n",
       "    </tr>\n",
       "    <tr>\n",
       "      <th>2</th>\n",
       "      <td>1</td>\n",
       "      <td>2008/2009</td>\n",
       "      <td>14</td>\n",
       "      <td>2008-11-29</td>\n",
       "      <td>9987</td>\n",
       "      <td>9984</td>\n",
       "      <td>3</td>\n",
       "      <td>2</td>\n",
       "      <td>Belgium</td>\n",
       "      <td>Belgium Jupiler League</td>\n",
       "      <td>9987</td>\n",
       "      <td>KRC Genk</td>\n",
       "    </tr>\n",
       "    <tr>\n",
       "      <th>3</th>\n",
       "      <td>1</td>\n",
       "      <td>2008/2009</td>\n",
       "      <td>16</td>\n",
       "      <td>2008-12-13</td>\n",
       "      <td>9987</td>\n",
       "      <td>9986</td>\n",
       "      <td>1</td>\n",
       "      <td>0</td>\n",
       "      <td>Belgium</td>\n",
       "      <td>Belgium Jupiler League</td>\n",
       "      <td>9987</td>\n",
       "      <td>KRC Genk</td>\n",
       "    </tr>\n",
       "    <tr>\n",
       "      <th>4</th>\n",
       "      <td>1</td>\n",
       "      <td>2008/2009</td>\n",
       "      <td>19</td>\n",
       "      <td>2009-01-24</td>\n",
       "      <td>9987</td>\n",
       "      <td>9998</td>\n",
       "      <td>2</td>\n",
       "      <td>0</td>\n",
       "      <td>Belgium</td>\n",
       "      <td>Belgium Jupiler League</td>\n",
       "      <td>9987</td>\n",
       "      <td>KRC Genk</td>\n",
       "    </tr>\n",
       "  </tbody>\n",
       "</table>\n",
       "</div>"
      ],
      "text/plain": [
       "   country_id     season  stage       date  home_team_api_id  \\\n",
       "0           1  2008/2009      1 2008-08-17              9987   \n",
       "1           1  2008/2009     12 2008-11-15              9987   \n",
       "2           1  2008/2009     14 2008-11-29              9987   \n",
       "3           1  2008/2009     16 2008-12-13              9987   \n",
       "4           1  2008/2009     19 2009-01-24              9987   \n",
       "\n",
       "   away_team_api_id  home_team_goal  away_team_goal  Country  \\\n",
       "0              9993               1               1  Belgium   \n",
       "1              9999               1               1  Belgium   \n",
       "2              9984               3               2  Belgium   \n",
       "3              9986               1               0  Belgium   \n",
       "4              9998               2               0  Belgium   \n",
       "\n",
       "                   League  team_api_id team_long_name  \n",
       "0  Belgium Jupiler League         9987       KRC Genk  \n",
       "1  Belgium Jupiler League         9987       KRC Genk  \n",
       "2  Belgium Jupiler League         9987       KRC Genk  \n",
       "3  Belgium Jupiler League         9987       KRC Genk  \n",
       "4  Belgium Jupiler League         9987       KRC Genk  "
      ]
     },
     "execution_count": 28,
     "metadata": {},
     "output_type": "execute_result"
    }
   ],
   "source": [
    "df_mt = pd.merge(df_mcl,df_t, left_on='home_team_api_id', right_on= 'team_api_id')\n",
    "df_mt.drop(['team_short_name', 'team_fifa_api_id','id','match_api_id'],axis = 1, inplace = True)\n",
    "df_mt.head()"
   ]
  },
  {
   "cell_type": "markdown",
   "metadata": {},
   "source": [
    "<a id='eda'></a>\n",
    "## Exploratory Data Analysis\n",
    "\n",
    "> It is time to explore our data and answer some questions about the data given below. We will go through the analysis step by step and provide the necessary data\n",
    "\n"
   ]
  },
  {
   "cell_type": "markdown",
   "metadata": {},
   "source": [
    "### Show the players that have improved the most since 2008 to 2015?\n",
    "\n",
    "> There are many players who have improved their overall rating and progressed in their career. Here we are going to see the players who have improved the most between the years of 2008 to 2015. \n",
    "- We will start by subsetting the player/team merged dataframe by finding the difference of overall rating of each player\n",
    "- We will then plot this increase for the top 10 most improved players \n"
   ]
  },
  {
   "cell_type": "code",
   "execution_count": 58,
   "metadata": {
    "scrolled": false
   },
   "outputs": [
    {
     "name": "stdout",
     "output_type": "stream",
     "text": [
      "                player_name  overall_rating\n",
      "6585             Marco Reus            42.0\n",
      "3388  Francesco Della Rocca            39.0\n",
      "1063            Bakary Sako            38.0\n",
      "8739      Ricardo Rodriguez            38.0\n",
      "2782            Eden Hazard            38.0\n",
      "8531       Radja Nainggolan            37.0\n",
      "9321            Scott Brown            37.0\n",
      "8042        Oscar de Marcos            37.0\n",
      "5973       Leonardo Bonucci            36.0\n",
      "2187             Danny Ings            36.0\n"
     ]
    },
    {
     "data": {
      "image/png": "[encoded data removed]",
      "text/plain": [
       "<Figure size 515.287x360 with 1 Axes>"
      ]
     },
     "metadata": {},
     "output_type": "display_data"
    }
   ],
   "source": [
    "# Making a new dataframe showing the increase in overall rating\n",
    "df_pm_change = df_pm.groupby('player_name')['overall_rating'].max() - df_pm.groupby('player_name')['overall_rating'].min()\n",
    "df_pm_change = pd.DataFrame(df_pm_change)\n",
    "df_pm_change = df_pm_change.reset_index().sort_values('overall_rating',axis = 0, ascending=False).head(10)\n",
    "\n",
    "print(df_pm_change)\n",
    "\n",
    "# Plotting out findings\n",
    "sns.set_style('darkgrid')\n",
    "sns.set_palette('Purples')\n",
    "sns.set_context('paper')\n",
    "g = sns.catplot(x = 'overall_rating', y = 'player_name', data = df_pm_change, kind = 'bar', aspect=14.7/10.27)\n",
    "\n",
    "# Labelling the plot\n",
    "g.fig.suptitle('Most Improved player from 2008 - 2015', x = 0.65, y = 1.05)\n",
    "g.set(xlabel = 'Overall Rating', ylabel = 'Player')\n",
    "plt.show()"
   ]
  },
  {
   "cell_type": "markdown",
   "metadata": {},
   "source": [
    "> Conclusions\n",
    "- It looks like Marco Reus has shown the highest improvement with over a 40+ point overall increase."
   ]
  },
  {
   "cell_type": "markdown",
   "metadata": {},
   "source": [
    "### Which are the top 10 players in 2016?\n",
    "\n",
    "> This question is pretty straight forward. This will be based once again on the overall rating of the players.\n",
    "- We have made a function that gives us the top 10 players of each year.\n",
    "- From this we have made a graph that shows the same through seaborn\n"
   ]
  },
  {
   "cell_type": "code",
   "execution_count": 56,
   "metadata": {
    "scrolled": true
   },
   "outputs": [
    {
     "data": {
      "text/html": [
       "<div>\n",
       "<style scoped>\n",
       "    .dataframe tbody tr th:only-of-type {\n",
       "        vertical-align: middle;\n",
       "    }\n",
       "\n",
       "    .dataframe tbody tr th {\n",
       "        vertical-align: top;\n",
       "    }\n",
       "\n",
       "    .dataframe thead th {\n",
       "        text-align: right;\n",
       "    }\n",
       "</style>\n",
       "<table border=\"1\" class=\"dataframe\">\n",
       "  <thead>\n",
       "    <tr style=\"text-align: right;\">\n",
       "      <th></th>\n",
       "      <th>date</th>\n",
       "      <th>overall_rating</th>\n",
       "      <th>player_name</th>\n",
       "    </tr>\n",
       "    <tr>\n",
       "      <th>rank</th>\n",
       "      <th></th>\n",
       "      <th></th>\n",
       "      <th></th>\n",
       "    </tr>\n",
       "  </thead>\n",
       "  <tbody>\n",
       "    <tr>\n",
       "      <th>0</th>\n",
       "      <td>2016-02-04</td>\n",
       "      <td>90.0</td>\n",
       "      <td>Neymar</td>\n",
       "    </tr>\n",
       "    <tr>\n",
       "      <th>1</th>\n",
       "      <td>2016-04-21</td>\n",
       "      <td>90.0</td>\n",
       "      <td>Manuel Neuer</td>\n",
       "    </tr>\n",
       "    <tr>\n",
       "      <th>2</th>\n",
       "      <td>2016-01-28</td>\n",
       "      <td>89.0</td>\n",
       "      <td>Arjen Robben</td>\n",
       "    </tr>\n",
       "    <tr>\n",
       "      <th>3</th>\n",
       "      <td>2016-03-10</td>\n",
       "      <td>88.0</td>\n",
       "      <td>Sergio Aguero</td>\n",
       "    </tr>\n",
       "    <tr>\n",
       "      <th>4</th>\n",
       "      <td>2016-01-28</td>\n",
       "      <td>88.0</td>\n",
       "      <td>Eden Hazard</td>\n",
       "    </tr>\n",
       "    <tr>\n",
       "      <th>5</th>\n",
       "      <td>2016-01-28</td>\n",
       "      <td>88.0</td>\n",
       "      <td>Robert Lewandowski</td>\n",
       "    </tr>\n",
       "    <tr>\n",
       "      <th>6</th>\n",
       "      <td>2016-02-18</td>\n",
       "      <td>88.0</td>\n",
       "      <td>Mesut Oezil</td>\n",
       "    </tr>\n",
       "    <tr>\n",
       "      <th>7</th>\n",
       "      <td>2016-01-14</td>\n",
       "      <td>87.0</td>\n",
       "      <td>Jerome Boateng</td>\n",
       "    </tr>\n",
       "    <tr>\n",
       "      <th>8</th>\n",
       "      <td>2016-04-21</td>\n",
       "      <td>87.0</td>\n",
       "      <td>David De Gea</td>\n",
       "    </tr>\n",
       "    <tr>\n",
       "      <th>9</th>\n",
       "      <td>2016-03-31</td>\n",
       "      <td>87.0</td>\n",
       "      <td>Sergio Ramos</td>\n",
       "    </tr>\n",
       "  </tbody>\n",
       "</table>\n",
       "</div>"
      ],
      "text/plain": [
       "           date  overall_rating         player_name\n",
       "rank                                               \n",
       "0    2016-02-04            90.0              Neymar\n",
       "1    2016-04-21            90.0        Manuel Neuer\n",
       "2    2016-01-28            89.0        Arjen Robben\n",
       "3    2016-03-10            88.0       Sergio Aguero\n",
       "4    2016-01-28            88.0         Eden Hazard\n",
       "5    2016-01-28            88.0  Robert Lewandowski\n",
       "6    2016-02-18            88.0         Mesut Oezil\n",
       "7    2016-01-14            87.0      Jerome Boateng\n",
       "8    2016-04-21            87.0        David De Gea\n",
       "9    2016-03-31            87.0        Sergio Ramos"
      ]
     },
     "execution_count": 56,
     "metadata": {},
     "output_type": "execute_result"
    }
   ],
   "source": [
    "def best_player(df, year, n=10):\n",
    "    df_year = df[df.date.dt.year == year].sort_values('date').groupby('player_api_id').last()\n",
    "    #print(df_year.head(n))\n",
    "    \n",
    "    df_answer = df_year.loc[:,['date','overall_rating','player_name',]]\n",
    "    #print(df_answer.head(n))\n",
    "    \n",
    "    df_answer = df_answer.sort_values('overall_rating', ascending = False)\n",
    "    df_answer = df_answer.reset_index().drop('player_api_id', axis = 1)\n",
    "    #print(df_answer.head(n))\n",
    "    \n",
    "    df_answer['rank'] = df_answer.index\n",
    "    df_answer = df_answer.set_index('rank')\n",
    "    \n",
    "    return df_answer.head(n)\n",
    "\n",
    "# Lets see the data for 2016\n",
    "best_player(df_pm,2016,n = 10)\n"
   ]
  },
  {
   "cell_type": "code",
   "execution_count": 59,
   "metadata": {},
   "outputs": [
    {
     "data": {
      "image/png": "[encoded data removed]",
      "text/plain": [
       "<Figure size 515.287x360 with 1 Axes>"
      ]
     },
     "metadata": {},
     "output_type": "display_data"
    }
   ],
   "source": [
    "# Assign a variable\n",
    "d = best_player(df_pm,2016,n = 10)\n",
    "\n",
    "# Lets plot the graph\n",
    "sns.set_style('darkgrid')\n",
    "sns.set_palette('Purples')\n",
    "sns.set_context('paper')\n",
    "\n",
    "g = sns.catplot(y ='player_name', x = 'overall_rating', data = d, kind = 'bar', aspect=14.7/10.27);\n",
    "\n",
    "# Labelling\n",
    "g.fig.suptitle('Highest Rated Player from {}'.format(d.date.dt.year.loc[1]), x = 0.65, y = 1.05);\n",
    "g.set(xlabel = 'Overall Rating', ylabel = 'Player');\n",
    "plt.xlim(80, 92, 2)\n",
    "plt.show()\n"
   ]
  },
  {
   "cell_type": "markdown",
   "metadata": {},
   "source": [
    "Conclusion\n",
    "> We can see that Neymar and Manuel Neuer are seen to be the highest rated played of 2016 with an overall rating of 90 each."
   ]
  },
  {
   "cell_type": "markdown",
   "metadata": {},
   "source": [
    "### Which are the most highly rated players since 2008 to 2016 ?"
   ]
  },
  {
   "cell_type": "markdown",
   "metadata": {},
   "source": [
    "> Here we have to determine the most highly rated players each season. Once we do that, we can see the highly rated players spread across different seasons in a graph. This will include players who have rated highly in multiple seasons.\n",
    "- Below we have made a loop for determining the dataframe from the top 3 players for each season.\n",
    "- Further below the graph has been made for our analysis."
   ]
  },
  {
   "cell_type": "code",
   "execution_count": 102,
   "metadata": {},
   "outputs": [
    {
     "data": {
      "text/html": [
       "<div>\n",
       "<style scoped>\n",
       "    .dataframe tbody tr th:only-of-type {\n",
       "        vertical-align: middle;\n",
       "    }\n",
       "\n",
       "    .dataframe tbody tr th {\n",
       "        vertical-align: top;\n",
       "    }\n",
       "\n",
       "    .dataframe thead th {\n",
       "        text-align: right;\n",
       "    }\n",
       "</style>\n",
       "<table border=\"1\" class=\"dataframe\">\n",
       "  <thead>\n",
       "    <tr style=\"text-align: right;\">\n",
       "      <th></th>\n",
       "      <th>date</th>\n",
       "      <th>overall_rating</th>\n",
       "      <th>player_name</th>\n",
       "    </tr>\n",
       "    <tr>\n",
       "      <th>rank</th>\n",
       "      <th></th>\n",
       "      <th></th>\n",
       "      <th></th>\n",
       "    </tr>\n",
       "  </thead>\n",
       "  <tbody>\n",
       "    <tr>\n",
       "      <th>0</th>\n",
       "      <td>2008-08-30</td>\n",
       "      <td>91.0</td>\n",
       "      <td>Cristiano Ronaldo</td>\n",
       "    </tr>\n",
       "    <tr>\n",
       "      <th>1</th>\n",
       "      <td>2008-08-30</td>\n",
       "      <td>91.0</td>\n",
       "      <td>Iker Casillas</td>\n",
       "    </tr>\n",
       "    <tr>\n",
       "      <th>2</th>\n",
       "      <td>2008-08-30</td>\n",
       "      <td>90.0</td>\n",
       "      <td>Gianluigi Buffon</td>\n",
       "    </tr>\n",
       "    <tr>\n",
       "      <th>3</th>\n",
       "      <td>2008-08-30</td>\n",
       "      <td>90.0</td>\n",
       "      <td>Kaka</td>\n",
       "    </tr>\n",
       "    <tr>\n",
       "      <th>0</th>\n",
       "      <td>2009-08-30</td>\n",
       "      <td>90.0</td>\n",
       "      <td>Lionel Messi</td>\n",
       "    </tr>\n",
       "    <tr>\n",
       "      <th>1</th>\n",
       "      <td>2009-08-30</td>\n",
       "      <td>90.0</td>\n",
       "      <td>Iker Casillas</td>\n",
       "    </tr>\n",
       "    <tr>\n",
       "      <th>2</th>\n",
       "      <td>2009-08-30</td>\n",
       "      <td>89.0</td>\n",
       "      <td>Julio Cesar</td>\n",
       "    </tr>\n",
       "    <tr>\n",
       "      <th>3</th>\n",
       "      <td>2009-08-30</td>\n",
       "      <td>89.0</td>\n",
       "      <td>Cristiano Ronaldo</td>\n",
       "    </tr>\n",
       "    <tr>\n",
       "      <th>0</th>\n",
       "      <td>2010-08-30</td>\n",
       "      <td>90.0</td>\n",
       "      <td>Lionel Messi</td>\n",
       "    </tr>\n",
       "    <tr>\n",
       "      <th>1</th>\n",
       "      <td>2010-08-30</td>\n",
       "      <td>89.0</td>\n",
       "      <td>Cristiano Ronaldo</td>\n",
       "    </tr>\n",
       "    <tr>\n",
       "      <th>2</th>\n",
       "      <td>2010-08-30</td>\n",
       "      <td>89.0</td>\n",
       "      <td>Iker Casillas</td>\n",
       "    </tr>\n",
       "    <tr>\n",
       "      <th>3</th>\n",
       "      <td>2010-08-30</td>\n",
       "      <td>88.0</td>\n",
       "      <td>Didier Drogba</td>\n",
       "    </tr>\n",
       "    <tr>\n",
       "      <th>0</th>\n",
       "      <td>2011-08-30</td>\n",
       "      <td>94.0</td>\n",
       "      <td>Lionel Messi</td>\n",
       "    </tr>\n",
       "    <tr>\n",
       "      <th>1</th>\n",
       "      <td>2011-08-30</td>\n",
       "      <td>92.0</td>\n",
       "      <td>Cristiano Ronaldo</td>\n",
       "    </tr>\n",
       "    <tr>\n",
       "      <th>2</th>\n",
       "      <td>2011-08-30</td>\n",
       "      <td>92.0</td>\n",
       "      <td>Xavi Hernandez</td>\n",
       "    </tr>\n",
       "    <tr>\n",
       "      <th>3</th>\n",
       "      <td>2011-08-30</td>\n",
       "      <td>91.0</td>\n",
       "      <td>Andres Iniesta</td>\n",
       "    </tr>\n",
       "    <tr>\n",
       "      <th>0</th>\n",
       "      <td>2012-08-31</td>\n",
       "      <td>94.0</td>\n",
       "      <td>Lionel Messi</td>\n",
       "    </tr>\n",
       "    <tr>\n",
       "      <th>1</th>\n",
       "      <td>2012-08-31</td>\n",
       "      <td>92.0</td>\n",
       "      <td>Cristiano Ronaldo</td>\n",
       "    </tr>\n",
       "    <tr>\n",
       "      <th>2</th>\n",
       "      <td>2012-08-31</td>\n",
       "      <td>90.0</td>\n",
       "      <td>Franck Ribery</td>\n",
       "    </tr>\n",
       "    <tr>\n",
       "      <th>3</th>\n",
       "      <td>2012-08-31</td>\n",
       "      <td>90.0</td>\n",
       "      <td>Andres Iniesta</td>\n",
       "    </tr>\n",
       "    <tr>\n",
       "      <th>0</th>\n",
       "      <td>2013-11-15</td>\n",
       "      <td>94.0</td>\n",
       "      <td>Lionel Messi</td>\n",
       "    </tr>\n",
       "    <tr>\n",
       "      <th>1</th>\n",
       "      <td>2013-09-20</td>\n",
       "      <td>92.0</td>\n",
       "      <td>Cristiano Ronaldo</td>\n",
       "    </tr>\n",
       "    <tr>\n",
       "      <th>2</th>\n",
       "      <td>2013-09-20</td>\n",
       "      <td>90.0</td>\n",
       "      <td>Radamel Falcao</td>\n",
       "    </tr>\n",
       "    <tr>\n",
       "      <th>3</th>\n",
       "      <td>2013-11-29</td>\n",
       "      <td>90.0</td>\n",
       "      <td>Franck Ribery</td>\n",
       "    </tr>\n",
       "    <tr>\n",
       "      <th>0</th>\n",
       "      <td>2014-10-17</td>\n",
       "      <td>93.0</td>\n",
       "      <td>Lionel Messi</td>\n",
       "    </tr>\n",
       "    <tr>\n",
       "      <th>1</th>\n",
       "      <td>2014-10-31</td>\n",
       "      <td>92.0</td>\n",
       "      <td>Cristiano Ronaldo</td>\n",
       "    </tr>\n",
       "    <tr>\n",
       "      <th>2</th>\n",
       "      <td>2014-10-17</td>\n",
       "      <td>90.0</td>\n",
       "      <td>Zlatan Ibrahimovic</td>\n",
       "    </tr>\n",
       "    <tr>\n",
       "      <th>3</th>\n",
       "      <td>2014-10-17</td>\n",
       "      <td>90.0</td>\n",
       "      <td>Arjen Robben</td>\n",
       "    </tr>\n",
       "  </tbody>\n",
       "</table>\n",
       "</div>"
      ],
      "text/plain": [
       "           date  overall_rating         player_name\n",
       "rank                                               \n",
       "0    2008-08-30            91.0   Cristiano Ronaldo\n",
       "1    2008-08-30            91.0       Iker Casillas\n",
       "2    2008-08-30            90.0    Gianluigi Buffon\n",
       "3    2008-08-30            90.0                Kaka\n",
       "0    2009-08-30            90.0        Lionel Messi\n",
       "1    2009-08-30            90.0       Iker Casillas\n",
       "2    2009-08-30            89.0         Julio Cesar\n",
       "3    2009-08-30            89.0   Cristiano Ronaldo\n",
       "0    2010-08-30            90.0        Lionel Messi\n",
       "1    2010-08-30            89.0   Cristiano Ronaldo\n",
       "2    2010-08-30            89.0       Iker Casillas\n",
       "3    2010-08-30            88.0       Didier Drogba\n",
       "0    2011-08-30            94.0        Lionel Messi\n",
       "1    2011-08-30            92.0   Cristiano Ronaldo\n",
       "2    2011-08-30            92.0      Xavi Hernandez\n",
       "3    2011-08-30            91.0      Andres Iniesta\n",
       "0    2012-08-31            94.0        Lionel Messi\n",
       "1    2012-08-31            92.0   Cristiano Ronaldo\n",
       "2    2012-08-31            90.0       Franck Ribery\n",
       "3    2012-08-31            90.0      Andres Iniesta\n",
       "0    2013-11-15            94.0        Lionel Messi\n",
       "1    2013-09-20            92.0   Cristiano Ronaldo\n",
       "2    2013-09-20            90.0      Radamel Falcao\n",
       "3    2013-11-29            90.0       Franck Ribery\n",
       "0    2014-10-17            93.0        Lionel Messi\n",
       "1    2014-10-31            92.0   Cristiano Ronaldo\n",
       "2    2014-10-17            90.0  Zlatan Ibrahimovic\n",
       "3    2014-10-17            90.0        Arjen Robben"
      ]
     },
     "execution_count": 102,
     "metadata": {},
     "output_type": "execute_result"
    }
   ],
   "source": [
    "time = [2008,2009,2010,2011,2012,2013,2014,2015]\n",
    "\n",
    "y = pd.DataFrame()\n",
    "for b in range(7):\n",
    "    x = best_player(df_pm,time[b],n = 5).loc[0:3]\n",
    "    y = y.append(x)\n",
    "\n",
    "y\n"
   ]
  },
  {
   "cell_type": "code",
   "execution_count": 103,
   "metadata": {},
   "outputs": [
    {
     "data": {
      "image/png": "[encoded data removed]",
      "text/plain": [
       "<Figure size 566.592x360 with 1 Axes>"
      ]
     },
     "metadata": {},
     "output_type": "display_data"
    }
   ],
   "source": [
    "# Taking on the year in the date column\n",
    "y.date = y.date.dt.year\n",
    "\n",
    "# Plotting the graph\n",
    "sns.set_style('darkgrid')\n",
    "sns.set_palette('colorblind')\n",
    "sns.set_context('paper')\n",
    "g =sns.catplot(x='overall_rating', y ='player_name', data =y,hue = 'date', kind ='bar', aspect=14.7/10.27)\n",
    "\n",
    "# Labelling the plot\n",
    "g.fig.suptitle('Highly Rated Players from 2008 to 2016 ', x = 0.65, y = 1.05)\n",
    "g.set(xlabel = 'Overall Rating', ylabel = 'Player')\n",
    "plt.xlim(86, 94, 2)\n",
    "plt.show()\n"
   ]
  },
  {
   "cell_type": "markdown",
   "metadata": {},
   "source": [
    "### Compare the total matched played in each league per year? Is there any variation? If so, Why?\n",
    "\n",
    ">  Here we find the total matches playes in each league per season.\n",
    "- The Match, Country and League merged dataset is used and then grouped by league and season. The stage column in the dataset shows the matches which can be summed to obtain the total number of matches."
   ]
  },
  {
   "cell_type": "code",
   "execution_count": 106,
   "metadata": {
    "scrolled": true
   },
   "outputs": [],
   "source": [
    "\n",
    "# Data is grouped\n",
    "c = df_mcl.groupby(['League','season']).stage.count().sort_values(ascending = False)\n",
    "c = pd.DataFrame(c).rename(columns = {'stage':'total_matches'})\n",
    "c = c.reset_index()\n"
   ]
  },
  {
   "cell_type": "code",
   "execution_count": 105,
   "metadata": {},
   "outputs": [
    {
     "data": {
      "image/png": "[encoded data removed]",
      "text/plain": [
       "<Figure size 588.592x360 with 1 Axes>"
      ]
     },
     "metadata": {},
     "output_type": "display_data"
    }
   ],
   "source": [
    "# Lets plot\n",
    "g = sns.catplot(y = 'League', x = 'total_matches', data = c, hue = 'season', kind = 'bar', aspect=14.7/10.27 )\n",
    "g.fig.suptitle('Total number of matches played by Leagues every season', x = 0.65, y = 1.05)\n",
    "g.set(xlabel = 'Number of Matches', ylabel = 'League')\n",
    "plt.show()"
   ]
  },
  {
   "cell_type": "markdown",
   "metadata": {},
   "source": [
    "Conclusion\n",
    "> We can see the total number of matchesper leagues from 2008 to 2016\n",
    "- This is not same for all the leagues since the number of teams in each league is different.\n",
    "- We can also see some outliers in the dataset which could be due to error in reporting or extenuous circumstances of the league in question for that particular year."
   ]
  },
  {
   "cell_type": "markdown",
   "metadata": {},
   "source": [
    "### Which are the toughest teams to play at their home ground?\n",
    "\n",
    ">  Soccer is a game where the team with the most goals win. To answer this question we need to find the teams that score most at their home ground\n",
    "- The merged match/team dataset is used and the sum of home team goals is taken with respect to the season and team name.\n",
    "- Then we can plot to see the teams that score a high amount of goals in their own home ground."
   ]
  },
  {
   "cell_type": "code",
   "execution_count": 107,
   "metadata": {},
   "outputs": [
    {
     "data": {
      "text/html": [
       "<div>\n",
       "<style scoped>\n",
       "    .dataframe tbody tr th:only-of-type {\n",
       "        vertical-align: middle;\n",
       "    }\n",
       "\n",
       "    .dataframe tbody tr th {\n",
       "        vertical-align: top;\n",
       "    }\n",
       "\n",
       "    .dataframe thead th {\n",
       "        text-align: right;\n",
       "    }\n",
       "</style>\n",
       "<table border=\"1\" class=\"dataframe\">\n",
       "  <thead>\n",
       "    <tr style=\"text-align: right;\">\n",
       "      <th></th>\n",
       "      <th>team_long_name</th>\n",
       "      <th>season</th>\n",
       "      <th>home_team_goal</th>\n",
       "    </tr>\n",
       "  </thead>\n",
       "  <tbody>\n",
       "    <tr>\n",
       "      <th>0</th>\n",
       "      <td>FC Barcelona</td>\n",
       "      <td>2011/2012</td>\n",
       "      <td>73</td>\n",
       "    </tr>\n",
       "    <tr>\n",
       "      <th>1</th>\n",
       "      <td>Real Madrid CF</td>\n",
       "      <td>2015/2016</td>\n",
       "      <td>70</td>\n",
       "    </tr>\n",
       "    <tr>\n",
       "      <th>2</th>\n",
       "      <td>Real Madrid CF</td>\n",
       "      <td>2011/2012</td>\n",
       "      <td>70</td>\n",
       "    </tr>\n",
       "    <tr>\n",
       "      <th>3</th>\n",
       "      <td>Chelsea</td>\n",
       "      <td>2009/2010</td>\n",
       "      <td>68</td>\n",
       "    </tr>\n",
       "    <tr>\n",
       "      <th>4</th>\n",
       "      <td>Real Madrid CF</td>\n",
       "      <td>2012/2013</td>\n",
       "      <td>67</td>\n",
       "    </tr>\n",
       "  </tbody>\n",
       "</table>\n",
       "</div>"
      ],
      "text/plain": [
       "   team_long_name     season  home_team_goal\n",
       "0    FC Barcelona  2011/2012              73\n",
       "1  Real Madrid CF  2015/2016              70\n",
       "2  Real Madrid CF  2011/2012              70\n",
       "3         Chelsea  2009/2010              68\n",
       "4  Real Madrid CF  2012/2013              67"
      ]
     },
     "execution_count": 107,
     "metadata": {},
     "output_type": "execute_result"
    }
   ],
   "source": [
    "# Lets subset the data with respect to home team goal\n",
    "home_goals = df_mt.groupby(['team_long_name','season'])['home_team_goal'].sum().sort_values(ascending = False).head(30)\n",
    "home_goals = pd.DataFrame(home_goals)\n",
    "home_goals = home_goals.reset_index()\n",
    "\n",
    "home_goals.head()\n"
   ]
  },
  {
   "cell_type": "code",
   "execution_count": 123,
   "metadata": {},
   "outputs": [
    {
     "data": {
      "image/png": "[encoded data removed]",
      "text/plain": [
       "<Figure size 574.813x360 with 1 Axes>"
      ]
     },
     "metadata": {},
     "output_type": "display_data"
    },
    {
     "data": {
      "image/png": "[encoded data removed]",
      "text/plain": [
       "<Figure size 574.813x360 with 1 Axes>"
      ]
     },
     "metadata": {},
     "output_type": "display_data"
    }
   ],
   "source": [
    "#Plotting the graphs\n",
    "g = sns.catplot(x = 'home_team_goal', y = 'team_long_name', data = home_goals, kind = 'bar', hue='season', aspect=15.7/11.27);\n",
    "g.fig.suptitle('Toughest teams to play at their home ground per season', x = 0.55, y = 1.05);\n",
    "g.set(xlabel = 'Number of Home Team Goals', ylabel = 'Team Name')\n",
    "\n",
    "# Labelling\n",
    "g = sns.catplot(x = 'home_team_goal', y = 'team_long_name', data = home_goals.head(10), kind = 'bar', hue='season', aspect=15.7/11.27);\n",
    "g.fig.suptitle('Toughest teams to play at their home ground per season', x = 0.55, y = 1.05);\n",
    "g.set(xlabel = 'Number of Home Team Goals', ylabel = 'Team Name');"
   ]
  },
  {
   "cell_type": "markdown",
   "metadata": {},
   "source": [
    "Conclusion\n",
    "> Be extremely careful if you going to any the home stadiums for the above teams. The chances of them scoring are extremely high."
   ]
  },
  {
   "cell_type": "markdown",
   "metadata": {},
   "source": [
    "### Which are the toughest teams to play in your home ground?\n",
    "> This is a very interesting question. A lot of teams usually have a home advantage when playing against other teams. The analysis below shows the worst teams you want to play at your home stadies since the score goals nonetheless\n",
    "- Like the previous exercise we subset values from the merged match/team dataset and sum the away team goals\n",
    "- Plot the resulting graph\n"
   ]
  },
  {
   "cell_type": "code",
   "execution_count": 114,
   "metadata": {},
   "outputs": [
    {
     "data": {
      "text/html": [
       "<div>\n",
       "<style scoped>\n",
       "    .dataframe tbody tr th:only-of-type {\n",
       "        vertical-align: middle;\n",
       "    }\n",
       "\n",
       "    .dataframe tbody tr th {\n",
       "        vertical-align: top;\n",
       "    }\n",
       "\n",
       "    .dataframe thead th {\n",
       "        text-align: right;\n",
       "    }\n",
       "</style>\n",
       "<table border=\"1\" class=\"dataframe\">\n",
       "  <thead>\n",
       "    <tr style=\"text-align: right;\">\n",
       "      <th></th>\n",
       "      <th>team_long_name</th>\n",
       "      <th>season</th>\n",
       "      <th>away_team_goal</th>\n",
       "    </tr>\n",
       "  </thead>\n",
       "  <tbody>\n",
       "    <tr>\n",
       "      <th>0</th>\n",
       "      <td>Real Madrid CF</td>\n",
       "      <td>2014/2015</td>\n",
       "      <td>53</td>\n",
       "    </tr>\n",
       "    <tr>\n",
       "      <th>1</th>\n",
       "      <td>Celtic</td>\n",
       "      <td>2013/2014</td>\n",
       "      <td>52</td>\n",
       "    </tr>\n",
       "    <tr>\n",
       "      <th>2</th>\n",
       "      <td>FC Barcelona</td>\n",
       "      <td>2012/2013</td>\n",
       "      <td>52</td>\n",
       "    </tr>\n",
       "    <tr>\n",
       "      <th>3</th>\n",
       "      <td>Real Madrid CF</td>\n",
       "      <td>2011/2012</td>\n",
       "      <td>51</td>\n",
       "    </tr>\n",
       "    <tr>\n",
       "      <th>4</th>\n",
       "      <td>FC Barcelona</td>\n",
       "      <td>2010/2011</td>\n",
       "      <td>49</td>\n",
       "    </tr>\n",
       "  </tbody>\n",
       "</table>\n",
       "</div>"
      ],
      "text/plain": [
       "   team_long_name     season  away_team_goal\n",
       "0  Real Madrid CF  2014/2015              53\n",
       "1          Celtic  2013/2014              52\n",
       "2    FC Barcelona  2012/2013              52\n",
       "3  Real Madrid CF  2011/2012              51\n",
       "4    FC Barcelona  2010/2011              49"
      ]
     },
     "execution_count": 114,
     "metadata": {},
     "output_type": "execute_result"
    }
   ],
   "source": [
    "# Merging the required dataframes\n",
    "df_mta = pd.merge(df_mcl,df_t, left_on='away_team_api_id', right_on= 'team_api_id')\n",
    "df_mta.drop(['team_short_name', 'team_fifa_api_id','id','match_api_id'],axis = 1, inplace = True)\n",
    "df_mta.head()\n",
    "\n",
    "# Use the away team goals and assign it to away_goals\n",
    "away_goals = df_mta.groupby(['team_long_name', 'season'])['away_team_goal'].sum().sort_values(ascending = False).head(30)\n",
    "away_goals = pd.DataFrame(away_goals)\n",
    "away_goals = away_goals.reset_index()\n",
    "away_goals.head()"
   ]
  },
  {
   "cell_type": "code",
   "execution_count": 115,
   "metadata": {
    "scrolled": false
   },
   "outputs": [
    {
     "data": {
      "text/plain": [
       "<seaborn.axisgrid.FacetGrid at 0x1a21c2af50>"
      ]
     },
     "execution_count": 115,
     "metadata": {},
     "output_type": "execute_result"
    },
    {
     "data": {
      "image/png": "[encoded data removed]",
      "text/plain": [
       "<Figure size 588.592x360 with 1 Axes>"
      ]
     },
     "metadata": {},
     "output_type": "display_data"
    },
    {
     "data": {
      "image/png": "[encoded data removed]",
      "text/plain": [
       "<Figure size 588.592x360 with 1 Axes>"
      ]
     },
     "metadata": {},
     "output_type": "display_data"
    }
   ],
   "source": [
    "# Plotting the graph\n",
    "\n",
    "g = sns.catplot(x = 'away_team_goal', y = 'team_long_name', data = away_goals, kind = 'bar', hue='season', aspect=14.7/10.27);\n",
    "g.fig.suptitle('Toughest teams to play at your home ground per season', x = 0.55, y = 1.05);\n",
    "g.set(xlabel = 'Overall Rating', ylabel = 'Team Name')\n",
    "\n",
    "# Labelling the graph\n",
    "\n",
    "g = sns.catplot(x = 'away_team_goal', y = 'team_long_name', data = away_goals.head(10), kind = 'bar', hue='season', aspect=14.7/10.27);\n",
    "g.fig.suptitle('Toughest teams to play at your home ground per season', x = 0.55, y = 1.05);\n",
    "g.set(xlabel = 'Overall Rating', ylabel = 'Team Name')\n"
   ]
  },
  {
   "cell_type": "markdown",
   "metadata": {},
   "source": [
    "Conclusion\n",
    "> Be extremely careful if these teams are coming to your stadium. We though we will have an home advantage, the chances of the above teams scoring will be high."
   ]
  },
  {
   "cell_type": "markdown",
   "metadata": {},
   "source": [
    "### Which are the top teams between 2008 to 2016 who have the highest number of goals?\n",
    "> This can be easily achieved\n",
    "- We add the total goals from home goals and away goals\n",
    "- We plot the graphs"
   ]
  },
  {
   "cell_type": "code",
   "execution_count": 119,
   "metadata": {},
   "outputs": [
    {
     "data": {
      "text/html": [
       "<div>\n",
       "<style scoped>\n",
       "    .dataframe tbody tr th:only-of-type {\n",
       "        vertical-align: middle;\n",
       "    }\n",
       "\n",
       "    .dataframe tbody tr th {\n",
       "        vertical-align: top;\n",
       "    }\n",
       "\n",
       "    .dataframe thead th {\n",
       "        text-align: right;\n",
       "    }\n",
       "</style>\n",
       "<table border=\"1\" class=\"dataframe\">\n",
       "  <thead>\n",
       "    <tr style=\"text-align: right;\">\n",
       "      <th></th>\n",
       "      <th>team_long_name</th>\n",
       "      <th>season</th>\n",
       "      <th>home_team_goal</th>\n",
       "      <th>total_goals</th>\n",
       "    </tr>\n",
       "  </thead>\n",
       "  <tbody>\n",
       "    <tr>\n",
       "      <th>0</th>\n",
       "      <td>FC Barcelona</td>\n",
       "      <td>2011/2012</td>\n",
       "      <td>73</td>\n",
       "      <td>126</td>\n",
       "    </tr>\n",
       "    <tr>\n",
       "      <th>1</th>\n",
       "      <td>Real Madrid CF</td>\n",
       "      <td>2015/2016</td>\n",
       "      <td>70</td>\n",
       "      <td>122</td>\n",
       "    </tr>\n",
       "    <tr>\n",
       "      <th>2</th>\n",
       "      <td>Real Madrid CF</td>\n",
       "      <td>2011/2012</td>\n",
       "      <td>70</td>\n",
       "      <td>122</td>\n",
       "    </tr>\n",
       "    <tr>\n",
       "      <th>3</th>\n",
       "      <td>Chelsea</td>\n",
       "      <td>2009/2010</td>\n",
       "      <td>68</td>\n",
       "      <td>119</td>\n",
       "    </tr>\n",
       "    <tr>\n",
       "      <th>4</th>\n",
       "      <td>Real Madrid CF</td>\n",
       "      <td>2012/2013</td>\n",
       "      <td>67</td>\n",
       "      <td>116</td>\n",
       "    </tr>\n",
       "  </tbody>\n",
       "</table>\n",
       "</div>"
      ],
      "text/plain": [
       "   team_long_name     season  home_team_goal  total_goals\n",
       "0    FC Barcelona  2011/2012              73          126\n",
       "1  Real Madrid CF  2015/2016              70          122\n",
       "2  Real Madrid CF  2011/2012              70          122\n",
       "3         Chelsea  2009/2010              68          119\n",
       "4  Real Madrid CF  2012/2013              67          116"
      ]
     },
     "execution_count": 119,
     "metadata": {},
     "output_type": "execute_result"
    }
   ],
   "source": [
    "# Total Goal tally\n",
    "home_goals['total_goals'] = home_goals['home_team_goal'] + away_goals['away_team_goal']\n",
    "home_goals.head()"
   ]
  },
  {
   "cell_type": "code",
   "execution_count": 122,
   "metadata": {},
   "outputs": [
    {
     "data": {
      "text/plain": [
       "<seaborn.axisgrid.FacetGrid at 0x1a21e27310>"
      ]
     },
     "execution_count": 122,
     "metadata": {},
     "output_type": "execute_result"
    },
    {
     "data": {
      "image/png": "[encoded data removed]",
      "text/plain": [
       "<Figure size 588.592x360 with 1 Axes>"
      ]
     },
     "metadata": {},
     "output_type": "display_data"
    },
    {
     "data": {
      "image/png": "[encoded data removed]",
      "text/plain": [
       "<Figure size 588.592x360 with 1 Axes>"
      ]
     },
     "metadata": {},
     "output_type": "display_data"
    }
   ],
   "source": [
    "# Plot the teams with the highest goals for each season\n",
    "\n",
    "g = sns.catplot(x = 'total_goals', y = 'team_long_name', data = home_goals,kind = 'point', hue = 'season', join = False, aspect=14.7/10.27);\n",
    "g.fig.suptitle('Total goals by Top Teams from 2008 to 2016', x = 0.55, y = 1.05);\n",
    "g.set(xlabel = 'Total Goals', ylabel = 'Team Name')\n",
    "\n",
    "g = sns.catplot(y = 'total_goals', x = 'team_long_name', data = home_goals.head(10),kind = 'bar', hue = 'season', aspect=14.7/10.27);\n",
    "g.fig.suptitle('Total goals by Top Teams from 2008 to 2016', x = 0.55, y = 1.05);\n",
    "g.set(xlabel = 'Total Goals', ylabel = 'Team Name')"
   ]
  },
  {
   "cell_type": "markdown",
   "metadata": {},
   "source": [
    "Conclusion\n",
    "> It seems like the above teams are extremely attacking and prefer and are known for goal scoring in their respective seasons."
   ]
  },
  {
   "cell_type": "markdown",
   "metadata": {},
   "source": [
    "### Which team has the most number of Wins from 2008 to 2016?"
   ]
  },
  {
   "cell_type": "code",
   "execution_count": 126,
   "metadata": {},
   "outputs": [
    {
     "data": {
      "text/html": [
       "<div>\n",
       "<style scoped>\n",
       "    .dataframe tbody tr th:only-of-type {\n",
       "        vertical-align: middle;\n",
       "    }\n",
       "\n",
       "    .dataframe tbody tr th {\n",
       "        vertical-align: top;\n",
       "    }\n",
       "\n",
       "    .dataframe thead th {\n",
       "        text-align: right;\n",
       "    }\n",
       "</style>\n",
       "<table border=\"1\" class=\"dataframe\">\n",
       "  <thead>\n",
       "    <tr style=\"text-align: right;\">\n",
       "      <th></th>\n",
       "      <th>Team Name</th>\n",
       "      <th>season</th>\n",
       "      <th>Wins</th>\n",
       "    </tr>\n",
       "  </thead>\n",
       "  <tbody>\n",
       "    <tr>\n",
       "      <th>0</th>\n",
       "      <td>Juventus</td>\n",
       "      <td>2013/2014</td>\n",
       "      <td>33</td>\n",
       "    </tr>\n",
       "    <tr>\n",
       "      <th>1</th>\n",
       "      <td>Real Madrid CF</td>\n",
       "      <td>2011/2012</td>\n",
       "      <td>32</td>\n",
       "    </tr>\n",
       "    <tr>\n",
       "      <th>2</th>\n",
       "      <td>FC Barcelona</td>\n",
       "      <td>2012/2013</td>\n",
       "      <td>32</td>\n",
       "    </tr>\n",
       "    <tr>\n",
       "      <th>3</th>\n",
       "      <td>Celtic</td>\n",
       "      <td>2013/2014</td>\n",
       "      <td>31</td>\n",
       "    </tr>\n",
       "    <tr>\n",
       "      <th>4</th>\n",
       "      <td>FC Barcelona</td>\n",
       "      <td>2009/2010</td>\n",
       "      <td>31</td>\n",
       "    </tr>\n",
       "  </tbody>\n",
       "</table>\n",
       "</div>"
      ],
      "text/plain": [
       "        Team Name     season  Wins\n",
       "0        Juventus  2013/2014    33\n",
       "1  Real Madrid CF  2011/2012    32\n",
       "2    FC Barcelona  2012/2013    32\n",
       "3          Celtic  2013/2014    31\n",
       "4    FC Barcelona  2009/2010    31"
      ]
     },
     "execution_count": 126,
     "metadata": {},
     "output_type": "execute_result"
    }
   ],
   "source": [
    "# Making the dataframe from scratch\n",
    "df_mtx = pd.read_csv('df_results.csv')\n",
    "\n",
    "k = pd.DataFrame(df_mtx.groupby(['result','season']).result.count()).rename(columns = {'result':'Wins'}).reset_index().sort_values('Wins',ascending = False).reset_index().drop('index', axis =1)\n",
    "k = k[k['Wins'] <700].reset_index()\n",
    "k.drop('index', axis=1, inplace = True)\n",
    "k = k.rename(columns={'result':'Team Name'})\n",
    "k.head()"
   ]
  },
  {
   "cell_type": "code",
   "execution_count": 127,
   "metadata": {},
   "outputs": [
    {
     "data": {
      "image/png": "[encoded data removed]",
      "text/plain": [
       "<Figure size 588.592x360 with 1 Axes>"
      ]
     },
     "metadata": {},
     "output_type": "display_data"
    },
    {
     "data": {
      "image/png": "[encoded data removed]",
      "text/plain": [
       "<Figure size 588.592x360 with 1 Axes>"
      ]
     },
     "metadata": {},
     "output_type": "display_data"
    },
    {
     "data": {
      "image/png": "[encoded data removed]",
      "text/plain": [
       "<Figure size 515.287x360 with 1 Axes>"
      ]
     },
     "metadata": {},
     "output_type": "display_data"
    }
   ],
   "source": [
    "# Plotting the required graphs\n",
    "\n",
    "# Plot 1\n",
    "g = sns.catplot(x = 'Wins', y = 'Team Name', data = k.head(30), kind = 'bar', hue='season', aspect=14.7/10.27)\n",
    "g.fig.suptitle('Total Wins by Top Teams from 2008 to 2016', x = 0.55, y = 1.05)\n",
    "g.set(xlabel = 'Total Goals', ylabel = 'Team Name')\n",
    "plt.show()\n",
    "\n",
    "# Plot 2\n",
    "sns.set_palette('colorblind')\n",
    "g = sns.catplot(x = 'Wins', y = 'Team Name', data = k.head(10), kind = 'bar', hue='season', aspect=14.7/10.27)\n",
    "g.fig.suptitle('Top Teams with most wins from 2008 to 2016', x = 0.55, y = 1.05)\n",
    "plt.show()\n",
    "\n",
    "# Plot 3\n",
    "j = pd.DataFrame(k.groupby('Team Name').Wins.sum()).reset_index().sort_values('Wins', ascending = False)\n",
    "sns.set_palette('colorblind')\n",
    "g = sns.catplot(x = 'Wins', y = 'Team Name', data = j.head(10), kind = 'point', aspect=14.7/10.27)\n",
    "g.fig.suptitle('All time highest Wins', x = 0.55, y = 1.05)\n",
    "plt.show()\n",
    "\n"
   ]
  },
  {
   "cell_type": "markdown",
   "metadata": {},
   "source": [
    "Conclusion\n",
    "> It looks like Barcelona had the most number of wins followed by Real Madrid and Celtic. There are other factors that could weigh in when determining the win rate for the teams given above such as\n",
    "- How strong is the league?\n",
    "- Are all the teams equally rated or are more teams weaker then the best\n"
   ]
  },
  {
   "cell_type": "markdown",
   "metadata": {},
   "source": [
    "<a id='conclusions'></a>\n",
    "## Conclusions\n",
    "\n",
    "> There are a few things that stand out in our analysis\n",
    "- Messi and Ronaldo are the best players during the period of 2008 to 2016 with respect to rating.\n",
    "- Barcelona and Real Madrid have scored the highest number of goals.\n",
    "- Barcelone and Real Madrid have the highest number of wins.\n",
    "- Juventus had the highest number of Wins in a single season.\n",
    "- Marco Reus was the most improved player.\n",
    "\n",
    "> The above analysis is a minor exploration of the dataset. We can surely improve our analysis when time permits further. This includes\n",
    "- Player by Player analysis\n",
    "- Team by Team analysis\n",
    "- Predicting outcome of a match\n",
    "- Common attributes of highly rated players\n"
   ]
  },
  {
   "cell_type": "code",
   "execution_count": 128,
   "metadata": {
    "collapsed": true
   },
   "outputs": [
    {
     "data": {
      "text/plain": [
       "255"
      ]
     },
     "execution_count": 128,
     "metadata": {},
     "output_type": "execute_result"
    }
   ],
   "source": [
    "from subprocess import call\n",
    "call(['python', '-m', 'nbconvert', 'Investigate_a_Dataset.ipynb'])"
   ]
  },
  {
   "cell_type": "code",
   "execution_count": null,
   "metadata": {},
   "outputs": [],
   "source": []
  }
 ],
 "metadata": {
  "kernelspec": {
   "display_name": "Python 3",
   "language": "python",
   "name": "python3"
  },
  "language_info": {
   "codemirror_mode": {
    "name": "ipython",
    "version": 3
   },
   "file_extension": ".py",
   "mimetype": "text/x-python",
   "name": "python",
   "nbconvert_exporter": "python",
   "pygments_lexer": "ipython3",
   "version": "3.7.6"
  },
  "toc": {
   "base_numbering": 1,
   "nav_menu": {},
   "number_sections": true,
   "sideBar": true,
   "skip_h1_title": false,
   "title_cell": "Table of Contents",
   "title_sidebar": "Contents",
   "toc_cell": false,
   "toc_position": {
    "height": "calc(100% - 180px)",
    "left": "10px",
    "top": "150px",
    "width": "185.797px"
   },
   "toc_section_display": true,
   "toc_window_display": false
  }
 },
 "nbformat": 4,
 "nbformat_minor": 2
}
